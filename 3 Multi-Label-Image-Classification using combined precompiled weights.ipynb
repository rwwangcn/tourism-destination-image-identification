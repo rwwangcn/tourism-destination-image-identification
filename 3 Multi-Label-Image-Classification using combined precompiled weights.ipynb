{
 "cells": [
  {
   "cell_type": "markdown",
   "metadata": {},
   "source": [
    "# Using combined precompiled weights to train model"
   ]
  },
  {
   "cell_type": "markdown",
   "metadata": {},
   "source": [
    "Need to download precompiled weights and place them in the directory specified by keras"
   ]
  },
  {
   "cell_type": "code",
   "execution_count": 4,
   "metadata": {},
   "outputs": [],
   "source": [
    "import numpy as np\n",
    "import matplotlib.pyplot as plt\n",
    "\n",
    "from tensorflow.python.keras import optimizers, regularizers, applications,Input\n",
    "from tensorflow.python.keras.layers.core import Dense, Dropout, Activation, Flatten\n",
    "from tensorflow.python.keras.models import Sequential , Model\n",
    "from tensorflow.python.keras.layers import GlobalAveragePooling2D,GlobalMaxPooling2D,Concatenate\n",
    "\n",
    "from keras.utils import to_categorical\n",
    "\n",
    "plt.style.use('ggplot')\n",
    "plt.switch_backend('agg')\n",
    "\n",
    "%matplotlib inline"
   ]
  },
  {
   "cell_type": "code",
   "execution_count": 3,
   "metadata": {},
   "outputs": [
    {
     "name": "stdout",
     "output_type": "stream",
     "text": [
      "[name: \"/device:CPU:0\"\n",
      "device_type: \"CPU\"\n",
      "memory_limit: 268435456\n",
      "locality {\n",
      "}\n",
      "incarnation: 4366369404466154377\n",
      ", name: \"/device:GPU:0\"\n",
      "device_type: \"GPU\"\n",
      "memory_limit: 6620742943\n",
      "locality {\n",
      "  bus_id: 1\n",
      "  links {\n",
      "  }\n",
      "}\n",
      "incarnation: 15493909141878063857\n",
      "physical_device_desc: \"device: 0, name: GeForce RTX 2070 with Max-Q Design, pci bus id: 0000:01:00.0, compute capability: 7.5\"\n",
      "]\n"
     ]
    }
   ],
   "source": [
    "import os\n",
    "from tensorflow.python.client import device_lib\n",
    "\n",
    "os.environ[\"CUDA_DEVICE_ORDER\"]=\"PCI_BUS_ID\"   \n",
    "os.environ[\"CUDA_VISIBLE_DEVICES\"]=\"0,1\"      #GPU\n",
    "\n",
    "print(device_lib.list_local_devices())"
   ]
  },
  {
   "cell_type": "markdown",
   "metadata": {},
   "source": [
    "## 1、 Parameter settings"
   ]
  },
  {
   "cell_type": "code",
   "execution_count": 2,
   "metadata": {},
   "outputs": [],
   "source": [
    "EPOCHS = 30\n",
    "BATCH_SIZE = 10\n",
    "img_size = 192\n",
    "dropout_rate = 0.5"
   ]
  },
  {
   "cell_type": "markdown",
   "metadata": {},
   "source": [
    "## 2、Construct a model of combined precompiled weights"
   ]
  },
  {
   "cell_type": "code",
   "execution_count": 4,
   "metadata": {
    "colab": {
     "base_uri": "https://localhost:8080/",
     "height": 680
    },
    "colab_type": "code",
    "id": "QhMAn88cQxQ-",
    "outputId": "655eee41-eae6-4252-d386-fd451afb4641"
   },
   "outputs": [],
   "source": [
    "def overfitting_plot(history, name):\n",
    "    acc = history.history['acc']\n",
    "    val_acc = history.history['val_acc']\n",
    "    loss = history.history['loss']\n",
    "    val_loss = history.history['val_loss']\n",
    "    \n",
    "    epochs = range(1, len(acc) + 1)\n",
    "    \n",
    "    plt.plot(epochs, acc, 'bo', label='Training acc')\n",
    "    plt.plot(epochs, val_acc, 'b', label='Validation acc')\n",
    "    plt.title('accuracy  '+name)\n",
    "    plt.legend(loc='best')\n",
    "    plt.savefig('acc_'+name+'.png')\n",
    "    \n",
    "    plt.figure()\n",
    "    plt.plot(epochs, loss, 'bo', label='Training loss')\n",
    "    plt.plot(epochs, val_loss, 'b', label='Validation loss')\n",
    "    plt.title('loss '+name)\n",
    "    plt.legend(loc='best')\n",
    "    plt.savefig('loss_'+name+'.png')\n",
    "\n",
    "def Multimodel(img_size,cnn_weights_path=None,all_weights_path=None,class_num=25,cnn_no_vary=False):\n",
    "    '''Combination of densent169, xinception parallel network'''\n",
    "    \n",
    "    dir=os.getcwd()\n",
    "    \n",
    "    input_layer=Input(shape=(img_size,img_size,3))\n",
    "    dense=applications.DenseNet169(include_top=False,weights=None,input_tensor=input_layer,input_shape=(img_size,img_size,3))\n",
    "    xception=applications.Xception(include_top=False,weights=None,input_tensor=input_layer,input_shape=(img_size,img_size,3))\n",
    "    \n",
    "    if cnn_no_vary:\n",
    "        for i,layer in  enumerate(dense.layers):\n",
    "            dense.layers[i].trainable=False\n",
    "        for i,layer in enumerate(xception.layers):\n",
    "            xception.layers[i].trainable=False\n",
    "        \n",
    "    if cnn_weights_path!=None:\n",
    "        dense.load_weights(cnn_weights_path[0])\n",
    "        xception.load_weights(cnn_weights_path[1])\n",
    " \n",
    "    dense=dense(input_layer)\n",
    "    xception=xception(input_layer)  \n",
    "    \n",
    "    #Global maximum pooling for dense_169 and xception\n",
    "    top1_model=GlobalAveragePooling2D(input_shape=(7,7,1024),data_format='channels_last')(dense)\n",
    "    top2_model=GlobalAveragePooling2D(input_shape=(7,7,1024),data_format='channels_last')(xception)\n",
    "    \n",
    "    #print(top1_model.shape,top2_model.shape)\n",
    "    #Connect top1_model and top2_model\n",
    "    t=Concatenate(axis=1)([top1_model,top2_model])\n",
    "    #The first fully connected layer\n",
    "    top_model=Dense(units=512,activation=\"relu\")(t)\n",
    "    top_model=Dropout(rate=0.5)(top_model)\n",
    "    \n",
    "    top_model=Dense(units=class_num,activation=\"softmax\")(top_model)\n",
    "    \n",
    "    model=Model(inputs=input_layer,outputs=top_model)\n",
    "    \n",
    "    #Load all parameters\n",
    "    if all_weights_path:\n",
    "        model.load_weights(all_weights_path)\n",
    "    \n",
    "    return model\n",
    "\n",
    "def newtrain(img_size,epochs):\n",
    "    X_train='X_train%dN.npy'%(img_size)\n",
    "    y_train='y_train%dN.npy'%(img_size)\n",
    "    X_test='X_test%dN.npy'%(img_size)\n",
    "    y_test='y_test%dN.npy'%(img_size)\n",
    "\n",
    "    Xtrain=np.load(X_train)\n",
    "    Ytrain=np.load(y_train)\n",
    "    Xvalid=np.load(X_test)\n",
    "    Yvalid=np.load(y_test)\n",
    "    \n",
    "    #The location of the following two pre-compiled weight files should be changed according to your computer\n",
    "    weights_path=[\"C:/Users/wangPC/.keras/models/densenet169_weights_tf_dim_ordering_tf_kernels_notop.h5\",\"C:/Users/wangPC/.keras/models/xception_weights_tf_dim_ordering_tf_kernels_notop.h5\"]\n",
    "    \n",
    "    model=Multimodel(img_size,cnn_weights_path=weights_path,class_num=25)\n",
    "    model.summary()\n",
    "    \n",
    "    model.compile(loss='categorical_crossentropy', \n",
    "                  optimizer=optimizers.RMSprop(lr=1e-5), \n",
    "                  metrics=['acc'])\n",
    "    \n",
    "    trained_model = model.fit(Xtrain, Ytrain, epochs = epochs, shuffle = True, batch_size = BATCH_SIZE,validation_data=(Xvalid, Yvalid))\n",
    "    \n",
    "    print(img_size,'Training completed！')\n",
    "    title=str(img_size)\n",
    "    overfitting_plot(trained_model, title)\n",
    "    \n",
    "    model.save('mynewmodel.h5')\n",
    "    \n",
    "    return model"
   ]
  },
  {
   "cell_type": "markdown",
   "metadata": {},
   "source": [
    "## 3、Training model\n",
    "To set the image size to 224, you must first preprocess the image data of this size.\n",
    "\n",
    "Only 10 iterations below, you can increase the number"
   ]
  },
  {
   "cell_type": "code",
   "execution_count": 5,
   "metadata": {},
   "outputs": [
    {
     "name": "stderr",
     "output_type": "stream",
     "text": [
      "WARNING: Logging before flag parsing goes to stderr.\n",
      "W0815 22:47:55.445975 31328 deprecation.py:506] From D:\\Anaconda3\\lib\\site-packages\\tensorflow\\python\\ops\\init_ops.py:1251: calling VarianceScaling.__init__ (from tensorflow.python.ops.init_ops) with dtype is deprecated and will be removed in a future version.\n",
      "Instructions for updating:\n",
      "Call initializer instance with the dtype argument instead of passing it to the constructor\n"
     ]
    },
    {
     "name": "stdout",
     "output_type": "stream",
     "text": [
      "Model: \"model\"\n",
      "__________________________________________________________________________________________________\n",
      "Layer (type)                    Output Shape         Param #     Connected to                     \n",
      "==================================================================================================\n",
      "input_1 (InputLayer)            [(None, 224, 224, 3) 0                                            \n",
      "__________________________________________________________________________________________________\n",
      "densenet169 (Model)             (None, 7, 7, 1664)   12642880    input_1[0][0]                    \n",
      "__________________________________________________________________________________________________\n",
      "xception (Model)                (None, 7, 7, 2048)   20861480    input_1[0][0]                    \n",
      "__________________________________________________________________________________________________\n",
      "global_average_pooling2d (Globa (None, 1664)         0           densenet169[1][0]                \n",
      "__________________________________________________________________________________________________\n",
      "global_average_pooling2d_1 (Glo (None, 2048)         0           xception[1][0]                   \n",
      "__________________________________________________________________________________________________\n",
      "concatenate (Concatenate)       (None, 3712)         0           global_average_pooling2d[0][0]   \n",
      "                                                                 global_average_pooling2d_1[0][0] \n",
      "__________________________________________________________________________________________________\n",
      "dense (Dense)                   (None, 512)          1901056     concatenate[0][0]                \n",
      "__________________________________________________________________________________________________\n",
      "dropout (Dropout)               (None, 512)          0           dense[0][0]                      \n",
      "__________________________________________________________________________________________________\n",
      "dense_1 (Dense)                 (None, 25)           12825       dropout[0][0]                    \n",
      "==================================================================================================\n",
      "Total params: 35,418,241\n",
      "Trainable params: 35,205,313\n",
      "Non-trainable params: 212,928\n",
      "__________________________________________________________________________________________________\n",
      "Train on 21677 samples, validate on 9274 samples\n",
      "Epoch 1/10\n",
      "21677/21677 [==============================] - 1146s 53ms/sample - loss: 1.5407 - acc: 0.5549 - val_loss: 0.6003 - val_acc: 0.8115\n",
      "Epoch 2/10\n",
      "21677/21677 [==============================] - 1125s 52ms/sample - loss: 0.7218 - acc: 0.7801 - val_loss: 0.4888 - val_acc: 0.8414\n",
      "Epoch 3/10\n",
      "21677/21677 [==============================] - 1129s 52ms/sample - loss: 0.5126 - acc: 0.8387 - val_loss: 0.4598 - val_acc: 0.8534\n",
      "Epoch 4/10\n",
      "21677/21677 [==============================] - 1122s 52ms/sample - loss: 0.3819 - acc: 0.8803 - val_loss: 0.4713 - val_acc: 0.8575\n",
      "Epoch 5/10\n",
      "21677/21677 [==============================] - 1118s 52ms/sample - loss: 0.2833 - acc: 0.9092 - val_loss: 0.4939 - val_acc: 0.8573\n",
      "Epoch 6/10\n",
      "21677/21677 [==============================] - 1120s 52ms/sample - loss: 0.2005 - acc: 0.9377 - val_loss: 0.5235 - val_acc: 0.8554\n",
      "Epoch 7/10\n",
      "21677/21677 [==============================] - 1129s 52ms/sample - loss: 0.1417 - acc: 0.9552 - val_loss: 0.5569 - val_acc: 0.8578\n",
      "Epoch 8/10\n",
      "21677/21677 [==============================] - 1126s 52ms/sample - loss: 0.1045 - acc: 0.9675 - val_loss: 0.6016 - val_acc: 0.8581\n",
      "Epoch 9/10\n",
      "21677/21677 [==============================] - 1125s 52ms/sample - loss: 0.0761 - acc: 0.9781 - val_loss: 0.6576 - val_acc: 0.8523\n",
      "Epoch 10/10\n",
      "21677/21677 [==============================] - 1128s 52ms/sample - loss: 0.0541 - acc: 0.9832 - val_loss: 0.6849 - val_acc: 0.8528\n",
      "224 训练完成！\n"
     ]
    },
    {
     "data": {
      "image/png": "[encoded data removed]",
      "text/plain": [
       "<Figure size 432x288 with 1 Axes>"
      ]
     },
     "metadata": {
      "needs_background": "light"
     },
     "output_type": "display_data"
    },
    {
     "data": {
      "image/png": "[encoded data removed]",
      "text/plain": [
       "<Figure size 432x288 with 1 Axes>"
      ]
     },
     "metadata": {
      "needs_background": "light"
     },
     "output_type": "display_data"
    }
   ],
   "source": [
    "model=newtrain(224,10)"
   ]
  },
  {
   "cell_type": "markdown",
   "metadata": {},
   "source": [
    "## 4、Model evaluation"
   ]
  },
  {
   "cell_type": "code",
   "execution_count": 7,
   "metadata": {},
   "outputs": [],
   "source": [
    "#Load test data\n",
    "img_size=224\n",
    "X_test='X_test%dN.npy'%(img_size)\n",
    "y_test='y_test%dN.npy'%(img_size)\n",
    "\n",
    "Xvalid=np.load(X_test)\n",
    "Yvalid=np.load(y_test)"
   ]
  },
  {
   "cell_type": "code",
   "execution_count": 10,
   "metadata": {},
   "outputs": [
    {
     "name": "stdout",
     "output_type": "stream",
     "text": [
      "             precision    recall  f1-score   support\n",
      "\n",
      "          0       0.87      0.93      0.90       214\n",
      "          1       0.88      0.87      0.87       204\n",
      "          2       0.87      0.87      0.87       229\n",
      "          3       0.87      0.86      0.87       217\n",
      "          4       0.96      0.96      0.96       965\n",
      "          5       0.89      0.93      0.91       177\n",
      "          6       0.77      0.81      0.79       562\n",
      "          7       0.80      0.76      0.78       240\n",
      "          8       0.94      0.89      0.91      1288\n",
      "          9       0.86      0.83      0.84       303\n",
      "         10       0.98      0.95      0.96       269\n",
      "         11       0.76      0.79      0.77       675\n",
      "         12       0.77      0.84      0.80       323\n",
      "         13       0.74      0.76      0.75       268\n",
      "         14       0.97      0.93      0.95       207\n",
      "         15       0.85      0.79      0.82       190\n",
      "         16       0.85      0.92      0.88       202\n",
      "         17       0.96      0.93      0.95       220\n",
      "         18       0.87      0.86      0.86       248\n",
      "         19       0.93      0.88      0.90       286\n",
      "         20       0.71      0.73      0.72       301\n",
      "         21       0.74      0.75      0.75       504\n",
      "         22       0.76      0.75      0.76       276\n",
      "         23       0.84      0.84      0.84       712\n",
      "         24       0.82      0.79      0.80       194\n",
      "\n",
      "avg / total       0.85      0.85      0.85      9274\n",
      "\n"
     ]
    }
   ],
   "source": [
    "num_classes = 25\n",
    "y_pred = model.predict(Xvalid)\n",
    "# Convert one-hot to index\n",
    "y_pred = np.argmax(y_pred, axis=1)\n",
    "y_pred = to_categorical(y_pred, num_classes)\n",
    "\n",
    "#Print classification report\n",
    "from sklearn.metrics import classification_report\n",
    "print(classification_report(Yvalid, y_pred))"
   ]
  }
 ],
 "metadata": {
  "accelerator": "GPU",
  "anaconda-cloud": {},
  "colab": {
   "collapsed_sections": [],
   "name": "Lab1EvalBase.ipynb",
   "provenance": [],
   "version": "0.3.2"
  },
  "kernelspec": {
   "display_name": "Python 3",
   "language": "python",
   "name": "python3"
  },
  "language_info": {
   "codemirror_mode": {
    "name": "ipython",
    "version": 3
   },
   "file_extension": ".py",
   "mimetype": "text/x-python",
   "name": "python",
   "nbconvert_exporter": "python",
   "pygments_lexer": "ipython3",
   "version": "3.7.0"
  }
 },
 "nbformat": 4,
 "nbformat_minor": 4
}
