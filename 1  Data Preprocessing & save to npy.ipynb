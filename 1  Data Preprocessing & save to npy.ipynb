{
 "cells": [
  {
   "cell_type": "markdown",
   "metadata": {},
   "source": [
    "# Tourism  Destination Image Preprocessing"
   ]
  },
  {
   "cell_type": "markdown",
   "metadata": {},
   "source": [
    "The training pictures are stored in the datatrain directory, and the test pictures are stored in the dataval directory, all are stored by category."
   ]
  },
  {
   "cell_type": "code",
   "execution_count": 2,
   "metadata": {
    "colab": {},
    "colab_type": "code",
    "id": "ICl3w-VOQxQf"
   },
   "outputs": [],
   "source": [
    "import numpy as np\n",
    "import pandas as pd\n",
    "\n",
    "from sklearn.model_selection import train_test_split\n",
    "import cv2 as cv\n",
    "\n",
    "from keras.utils import np_utils, to_categorical"
   ]
  },
  {
   "cell_type": "markdown",
   "metadata": {},
   "source": [
    "## 1、Digital image processing functions\n",
    "### read all files in the directory, get digital images and their labels"
   ]
  },
  {
   "cell_type": "code",
   "execution_count": 3,
   "metadata": {},
   "outputs": [],
   "source": [
    "import os\n",
    "import glob\n",
    "from imutils import paths   #Opencv-based toolbox for image file processing\n",
    "import imutils\n",
    "from sklearn.utils import shuffle\n",
    "\n",
    "traindata='datatrain\\\\'    #Set the directory where the training images are located\n",
    "testdata='dataval\\\\'       #Set the directory where the test images are located\n",
    "img_size=192               #Set the size of each picture\n",
    "\n",
    "train_labels = list(paths.os.listdir(traindata))\n",
    "test_labels = list(paths.os.listdir(testdata))"
   ]
  },
  {
   "cell_type": "markdown",
   "metadata": {},
   "source": [
    "###  Image data preprocessing support function"
   ]
  },
  {
   "cell_type": "code",
   "execution_count": 4,
   "metadata": {},
   "outputs": [],
   "source": [
    "#Get subdirectories under the image directory, each subdirectory represents a category\n",
    "def get_fullpath(data):\n",
    "    print(\"Loading file structure...\",data)\n",
    "    major = os.listdir(data)\n",
    "    full_path=[]\n",
    "    for a in major:\n",
    "          full_path.append(data + a + \"\\\\\")\n",
    "            \n",
    "    return full_path  \n",
    "\n",
    "#Get the files under each sub-directory (ie picture category) and digitize it\n",
    "def get_imgdata(data,labels):\n",
    "    full_path=get_fullpath(data)\n",
    "    X_data = []\n",
    "    y_labels = []\n",
    "    total_images = 0\n",
    "\n",
    "    \n",
    "    for i in full_path:\n",
    "        images_in_folder = 0\n",
    "        label = i.split('\\\\')[1]\n",
    "        labelIndex=labels.index(label)\n",
    "        print('label:',label,':',labelIndex)\n",
    "        for file in glob.glob(i + \"*.jpg\"):\n",
    "            try:\n",
    "                img = cv.cvtColor(cv.imread(file),cv.COLOR_BGR2RGB)\n",
    "            except:\n",
    "                Exception\n",
    "                continue\n",
    "            img = cv.resize(img, (img_size,img_size))\n",
    "            total_images+=1\n",
    "            X_data.append(img)\n",
    "            y_labels.append(labelIndex)\n",
    "            images_in_folder += 1\n",
    "        print(\"The total number of images in %s = %d\" % (i,images_in_folder))\n",
    "    print(\"The total number of images in data = \" + str(total_images))\n",
    "    \n",
    "    return X_data,y_labels\n",
    "\n",
    "#Normalize and standardize the digitized pictures\n",
    "def data_norm(x_data):\n",
    "    x_data = np.array(x_data, np.float16) / 255.\n",
    "    \n",
    "    x_data = (x_data - x_data.mean(axis=0))/ x_data.std(axis = 0)\n",
    "    \n",
    "    return x_data"
   ]
  },
  {
   "cell_type": "markdown",
   "metadata": {},
   "source": [
    "###  The main function for data processing\n",
    "The processed image data is saved as a numpy file"
   ]
  },
  {
   "cell_type": "code",
   "execution_count": 5,
   "metadata": {},
   "outputs": [],
   "source": [
    "def dataToNpy(img_size):\n",
    "    X_train,y_train=get_imgdata(traindata,train_labels)  \n",
    "    X_train, y_train = shuffle(X_train, y_train, random_state=0) \n",
    "    \n",
    "    y_train = to_categorical(y_train)             #onehot encode\n",
    "\n",
    "    np.save('y_train%dN.npy'%(img_size),y_train)  #Save training data tags\n",
    "    print(\"Save training label data successfully！\")\n",
    "    \n",
    "    X_train=data_norm(X_train)\n",
    "\n",
    "    np.save('X_train%dN.npy'%(img_size),X_train)  #Save processed training data\n",
    "    print(\"Save training data successfully！\")\n",
    "    \n",
    "    del X_train,y_train   \n",
    "    \n",
    "    X_test,y_test=get_imgdata(testdata,test_labels)\n",
    "    X_test, y_test = shuffle(X_test, y_test, random_state=0)  #\n",
    "    \n",
    "    y_test = to_categorical(y_test)              #onehot encode\n",
    "\n",
    "    np.save('y_test%dN.npy'%(img_size),y_test)   #Save test data tags\n",
    "    print(\"Save test label data successfully！！\")\n",
    "    \n",
    "    X_test=data_norm(X_test)\n",
    "    \n",
    "    \n",
    "    np.save('X_test%dN.npy'%(img_size),X_test)   #Save processed test data\n",
    "    print(\"Save training data successfully！\")\n",
    "    \n",
    "    print('Data processing completed！')"
   ]
  },
  {
   "cell_type": "markdown",
   "metadata": {},
   "source": [
    "## 2 Perform image data preprocessing\n",
    "\n",
    " set different image sizes and call the above functions to generate processed image data for later model training."
   ]
  },
  {
   "cell_type": "code",
   "execution_count": 6,
   "metadata": {},
   "outputs": [
    {
     "name": "stdout",
     "output_type": "stream",
     "text": [
      "Loading file structure... datatrain\\\n",
      "label: E-FV : 0\n",
      "The total number of images in datatrain\\E-FV\\ = 501\n",
      "label: E-M : 1\n",
      "The total number of images in datatrain\\E-M\\ = 479\n",
      "label: E-S : 2\n",
      "The total number of images in datatrain\\E-S\\ = 536\n",
      "label: E-WC : 3\n",
      "The total number of images in datatrain\\E-WC\\ = 509\n",
      "label: L-B : 4\n",
      "The total number of images in datatrain\\L-B\\ = 2252\n",
      "label: L-C : 5\n",
      "The total number of images in datatrain\\L-C\\ = 415\n",
      "label: L-E : 6\n",
      "The total number of images in datatrain\\L-E\\ = 1312\n",
      "label: L-H : 7\n",
      "The total number of images in datatrain\\L-H\\ = 561\n",
      "label: L-O : 8\n",
      "The total number of images in datatrain\\L-O\\ = 3007\n",
      "label: L-S : 9\n",
      "The total number of images in datatrain\\L-S\\ = 710\n",
      "label: R-A : 10\n",
      "The total number of images in datatrain\\R-A\\ = 629\n",
      "label: R-L : 11\n",
      "The total number of images in datatrain\\R-L\\ = 1576\n",
      "label: S-M : 12\n",
      "The total number of images in datatrain\\S-M\\ = 756\n",
      "label: S-P : 13\n",
      "The total number of images in datatrain\\S-P\\ = 626\n",
      "label: T-A : 14\n",
      "The total number of images in datatrain\\T-A\\ = 483\n",
      "label: T-L : 15\n",
      "The total number of images in datatrain\\T-L\\ = 446\n",
      "label: T-S : 16\n",
      "The total number of images in datatrain\\T-S\\ = 473\n",
      "label: Y-AA : 17\n",
      "The total number of images in datatrain\\Y-AA\\ = 515\n",
      "label: Y-AL : 18\n",
      "The total number of images in datatrain\\Y-AL\\ = 579\n",
      "label: Y-AW : 19\n",
      "The total number of images in datatrain\\Y-AW\\ = 668\n",
      "label: Y-B : 20\n",
      "The total number of images in datatrain\\Y-B\\ = 704\n",
      "label: Y-L : 21\n",
      "The total number of images in datatrain\\Y-L\\ = 1176\n",
      "label: Y-M : 22\n",
      "The total number of images in datatrain\\Y-M\\ = 646\n",
      "label: Y-R : 23\n",
      "The total number of images in datatrain\\Y-R\\ = 1663\n",
      "label: Y-X : 24\n",
      "The total number of images in datatrain\\Y-X\\ = 455\n",
      "The total number of images in data = 21677\n",
      "Save training label data successfully！\n",
      "Save training data successfully！\n",
      "Loading file structure... dataval\\\n",
      "label: E-FV : 0\n",
      "The total number of images in dataval\\E-FV\\ = 214\n",
      "label: E-M : 1\n",
      "The total number of images in dataval\\E-M\\ = 204\n",
      "label: E-S : 2\n",
      "The total number of images in dataval\\E-S\\ = 229\n",
      "label: E-WC : 3\n",
      "The total number of images in dataval\\E-WC\\ = 217\n",
      "label: L-B : 4\n",
      "The total number of images in dataval\\L-B\\ = 965\n",
      "label: L-C : 5\n",
      "The total number of images in dataval\\L-C\\ = 177\n",
      "label: L-E : 6\n",
      "The total number of images in dataval\\L-E\\ = 562\n",
      "label: L-H : 7\n",
      "The total number of images in dataval\\L-H\\ = 240\n",
      "label: L-O : 8\n",
      "The total number of images in dataval\\L-O\\ = 1288\n",
      "label: L-S : 9\n",
      "The total number of images in dataval\\L-S\\ = 303\n",
      "label: R-A : 10\n",
      "The total number of images in dataval\\R-A\\ = 269\n",
      "label: R-L : 11\n",
      "The total number of images in dataval\\R-L\\ = 675\n",
      "label: S-M : 12\n",
      "The total number of images in dataval\\S-M\\ = 323\n",
      "label: S-P : 13\n",
      "The total number of images in dataval\\S-P\\ = 268\n",
      "label: T-A : 14\n",
      "The total number of images in dataval\\T-A\\ = 207\n",
      "label: T-L : 15\n",
      "The total number of images in dataval\\T-L\\ = 190\n",
      "label: T-S : 16\n",
      "The total number of images in dataval\\T-S\\ = 202\n",
      "label: Y-AA : 17\n",
      "The total number of images in dataval\\Y-AA\\ = 220\n",
      "label: Y-AL : 18\n",
      "The total number of images in dataval\\Y-AL\\ = 248\n",
      "label: Y-AW : 19\n",
      "The total number of images in dataval\\Y-AW\\ = 286\n",
      "label: Y-B : 20\n",
      "The total number of images in dataval\\Y-B\\ = 301\n",
      "label: Y-L : 21\n",
      "The total number of images in dataval\\Y-L\\ = 504\n",
      "label: Y-M : 22\n",
      "The total number of images in dataval\\Y-M\\ = 276\n",
      "label: Y-R : 23\n",
      "The total number of images in dataval\\Y-R\\ = 712\n",
      "label: Y-X : 24\n",
      "The total number of images in dataval\\Y-X\\ = 194\n",
      "The total number of images in data = 9274\n",
      "Save test label data successfully！！\n",
      "Save training data successfully！\n",
      "Data processing completed！\n"
     ]
    }
   ],
   "source": [
    "img_size=192\n",
    "dataToNpy(img_size)"
   ]
  },
  {
   "cell_type": "markdown",
   "metadata": {},
   "source": [
    "### notes\n",
    "Set different image sizes, test models need appropriate image sizes！\n",
    "\n",
    "img_size= Set different sizes\n",
    "\n",
    "dataToNpy(img_size)"
   ]
  },
  {
   "cell_type": "code",
   "execution_count": null,
   "metadata": {},
   "outputs": [],
   "source": []
  }
 ],
 "metadata": {
  "accelerator": "GPU",
  "anaconda-cloud": {},
  "colab": {
   "collapsed_sections": [],
   "name": "Lab1EvalBase.ipynb",
   "provenance": [],
   "version": "0.3.2"
  },
  "kernelspec": {
   "display_name": "Python 3",
   "language": "python",
   "name": "python3"
  },
  "language_info": {
   "codemirror_mode": {
    "name": "ipython",
    "version": 3
   },
   "file_extension": ".py",
   "mimetype": "text/x-python",
   "name": "python",
   "nbconvert_exporter": "python",
   "pygments_lexer": "ipython3",
   "version": "3.7.0"
  }
 },
 "nbformat": 4,
 "nbformat_minor": 4
}
